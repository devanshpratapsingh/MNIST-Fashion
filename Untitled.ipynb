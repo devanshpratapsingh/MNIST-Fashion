{
 "cells": [
  {
   "cell_type": "code",
   "execution_count": 11,
   "metadata": {},
   "outputs": [],
   "source": [
    "import numpy as np\n",
    "import matplotlib.pyplot as plt\n",
    "import tensorflow as tf\n",
    "from keras import Sequential\n",
    "from keras.layers import *\n",
    "from keras.preprocessing import image\n",
    "from keras.datasets import fashion_mnist\n",
    "from tensorflow.keras.utils import to_categorical"
   ]
  },
  {
   "cell_type": "code",
   "execution_count": 12,
   "metadata": {},
   "outputs": [],
   "source": [
    "(xtrain,ytrain),(xtest,ytest)= tf.keras.datasets.fashion_mnist.load_data()"
   ]
  },
  {
   "cell_type": "code",
   "execution_count": 13,
   "metadata": {},
   "outputs": [],
   "source": [
    "x_train= xtrain/255.0\n",
    "x_test= xtest/255.0\n",
    "x_train = np.expand_dims(x_train, -1) \n",
    "x_test = np.expand_dims(x_test, -1) \n",
    "y_train= to_categorical(ytrain, 10) \n",
    "y_test= to_categorical(ytest, 10)"
   ]
  },
  {
   "cell_type": "code",
   "execution_count": 14,
   "metadata": {},
   "outputs": [
    {
     "name": "stdout",
     "output_type": "stream",
     "text": [
      "(60000, 28, 28, 1)\n",
      "(60000, 10)\n"
     ]
    }
   ],
   "source": [
    "print(x_train.shape)\n",
    "print(y_train.shape)"
   ]
  },
  {
   "cell_type": "code",
   "execution_count": 28,
   "metadata": {},
   "outputs": [
    {
     "name": "stdout",
     "output_type": "stream",
     "text": [
      "Model: \"sequential_2\"\n",
      "_________________________________________________________________\n",
      "Layer (type)                 Output Shape              Param #   \n",
      "=================================================================\n",
      "conv2d_8 (Conv2D)            (None, 28, 28, 32)        320       \n",
      "_________________________________________________________________\n",
      "conv2d_9 (Conv2D)            (None, 28, 28, 32)        9248      \n",
      "_________________________________________________________________\n",
      "max_pooling2d_4 (MaxPooling2 (None, 14, 14, 32)        0         \n",
      "_________________________________________________________________\n",
      "dropout_6 (Dropout)          (None, 14, 14, 32)        0         \n",
      "_________________________________________________________________\n",
      "batch_normalization_6 (Batch (None, 14, 14, 32)        128       \n",
      "_________________________________________________________________\n",
      "conv2d_10 (Conv2D)           (None, 14, 14, 64)        18496     \n",
      "_________________________________________________________________\n",
      "conv2d_11 (Conv2D)           (None, 14, 14, 64)        36928     \n",
      "_________________________________________________________________\n",
      "max_pooling2d_5 (MaxPooling2 (None, 7, 7, 64)          0         \n",
      "_________________________________________________________________\n",
      "dropout_7 (Dropout)          (None, 7, 7, 64)          0         \n",
      "_________________________________________________________________\n",
      "batch_normalization_7 (Batch (None, 7, 7, 64)          256       \n",
      "_________________________________________________________________\n",
      "gaussian_noise_4 (GaussianNo (None, 7, 7, 64)          0         \n",
      "_________________________________________________________________\n",
      "flatten_2 (Flatten)          (None, 3136)              0         \n",
      "_________________________________________________________________\n",
      "dense_4 (Dense)              (None, 64)                200768    \n",
      "_________________________________________________________________\n",
      "dropout_8 (Dropout)          (None, 64)                0         \n",
      "_________________________________________________________________\n",
      "dense_5 (Dense)              (None, 64)                4160      \n",
      "_________________________________________________________________\n",
      "dropout_9 (Dropout)          (None, 64)                0         \n",
      "_________________________________________________________________\n",
      "batch_normalization_8 (Batch (None, 64)                256       \n",
      "_________________________________________________________________\n",
      "gaussian_noise_5 (GaussianNo (None, 64)                0         \n",
      "_________________________________________________________________\n",
      "dense_6 (Dense)              (None, 10)                650       \n",
      "=================================================================\n",
      "Total params: 271,210\n",
      "Trainable params: 270,890\n",
      "Non-trainable params: 320\n",
      "_________________________________________________________________\n"
     ]
    }
   ],
   "source": [
    "model=Sequential()\n",
    "model.add(Conv2D(32,kernel_size=(3,3),activation='relu',padding='same',input_shape=(28,28,1)))\n",
    "model.add(Conv2D(32,kernel_size=(3,3),activation='relu',padding='same'))\n",
    "model.add(MaxPooling2D(pool_size=(2,2)))\n",
    "model.add(Dropout(0.15))\n",
    "model.add(BatchNormalization())\n",
    "model.add(Conv2D(64,kernel_size=(3,3),activation='relu',padding='same'))\n",
    "model.add(Conv2D(64,kernel_size=(3,3),activation='relu',padding='same'))\n",
    "model.add(MaxPooling2D(pool_size=(2,2)))\n",
    "model.add(Dropout(0.15))\n",
    "model.add(BatchNormalization())\n",
    "model.add(GaussianNoise(0.25))\n",
    "model.add(Flatten())\n",
    "model.add(Dense(64,activation='relu'))\n",
    "model.add(Dropout(0.25))\n",
    "model.add(Dense(64,activation='relu'))\n",
    "model.add(Dropout(0.25))\n",
    "model.add(BatchNormalization())\n",
    "model.add(GaussianNoise(0.25))\n",
    "model.add(Dense(10,activation='softmax'))\n",
    "\n",
    "model.compile(optimizer='Adam',loss='categorical_crossentropy',metrics=['accuracy'])\n",
    "\n",
    "\n",
    "model.summary()"
   ]
  },
  {
   "cell_type": "code",
   "execution_count": 29,
   "metadata": {},
   "outputs": [
    {
     "name": "stdout",
     "output_type": "stream",
     "text": [
      "Epoch 1/10\n",
      "1875/1875 [==============================] - 176s 91ms/step - loss: 0.7714 - accuracy: 0.7355 - val_loss: 0.3465 - val_accuracy: 0.8677\n",
      "Epoch 2/10\n",
      "1875/1875 [==============================] - 172s 92ms/step - loss: 0.3371 - accuracy: 0.8831 - val_loss: 0.2422 - val_accuracy: 0.9144\n",
      "Epoch 3/10\n",
      "1875/1875 [==============================] - 181s 97ms/step - loss: 0.2833 - accuracy: 0.9019 - val_loss: 0.2553 - val_accuracy: 0.9060\n",
      "Epoch 4/10\n",
      "1875/1875 [==============================] - 183s 98ms/step - loss: 0.2503 - accuracy: 0.9119 - val_loss: 0.2372 - val_accuracy: 0.9153\n",
      "Epoch 5/10\n",
      "1875/1875 [==============================] - 170s 91ms/step - loss: 0.2344 - accuracy: 0.9198 - val_loss: 0.2344 - val_accuracy: 0.9149\n",
      "Epoch 6/10\n",
      "1875/1875 [==============================] - 177s 95ms/step - loss: 0.2184 - accuracy: 0.9248 - val_loss: 0.2100 - val_accuracy: 0.9272\n",
      "Epoch 7/10\n",
      "1875/1875 [==============================] - 191s 102ms/step - loss: 0.2091 - accuracy: 0.9266 - val_loss: 0.2027 - val_accuracy: 0.9260\n",
      "Epoch 8/10\n",
      "1875/1875 [==============================] - 196s 105ms/step - loss: 0.1960 - accuracy: 0.9314 - val_loss: 0.2162 - val_accuracy: 0.9224\n",
      "Epoch 9/10\n",
      "1875/1875 [==============================] - 165s 88ms/step - loss: 0.1826 - accuracy: 0.9367 - val_loss: 0.2004 - val_accuracy: 0.9291\n",
      "Epoch 10/10\n",
      "1875/1875 [==============================] - 176s 94ms/step - loss: 0.1759 - accuracy: 0.9382 - val_loss: 0.1956 - val_accuracy: 0.9310\n"
     ]
    }
   ],
   "source": [
    "from keras.callbacks import ModelCheckpoint\n",
    "from keras.callbacks import EarlyStopping\n",
    "mp= ModelCheckpoint('mymodel.hdf5',save_best_only=True)\n",
    "es= EarlyStopping(monitor='val_loss',patience=5)\n",
    "callbacks= [mp,es]\n",
    "history= model.fit(\n",
    "         x_train,\n",
    "         y_train,\n",
    "         steps_per_epoch=1875,\n",
    "         epochs=10,\n",
    "         batch_size=32,\n",
    "         validation_data= (x_test,y_test),\n",
    "         callbacks=callbacks\n",
    ")"
   ]
  },
  {
   "cell_type": "code",
   "execution_count": 30,
   "metadata": {},
   "outputs": [
    {
     "name": "stdout",
     "output_type": "stream",
     "text": [
      "1875/1875 [==============================] - 43s 22ms/step - loss: 0.1080 - accuracy: 0.9611\n"
     ]
    },
    {
     "data": {
      "text/plain": [
       "[0.10799238085746765, 0.9611333608627319]"
      ]
     },
     "execution_count": 30,
     "metadata": {},
     "output_type": "execute_result"
    }
   ],
   "source": [
    "model.evaluate(x_train,y_train)\n"
   ]
  },
  {
   "cell_type": "code",
   "execution_count": 31,
   "metadata": {},
   "outputs": [
    {
     "name": "stdout",
     "output_type": "stream",
     "text": [
      "313/313 [==============================] - 7s 21ms/step - loss: 0.1956 - accuracy: 0.9310\n"
     ]
    },
    {
     "data": {
      "text/plain": [
       "[0.19561122357845306, 0.9309999942779541]"
      ]
     },
     "execution_count": 31,
     "metadata": {},
     "output_type": "execute_result"
    }
   ],
   "source": [
    "model.evaluate(x_test,y_test)"
   ]
  },
  {
   "cell_type": "code",
   "execution_count": 32,
   "metadata": {},
   "outputs": [
    {
     "data": {
      "text/plain": [
       "<matplotlib.legend.Legend at 0x2915cc19430>"
      ]
     },
     "execution_count": 32,
     "metadata": {},
     "output_type": "execute_result"
    },
    {
     "data": {
      "image/png": "[encoded data removed]",
      "text/plain": [
       "<Figure size 432x288 with 1 Axes>"
      ]
     },
     "metadata": {
      "needs_background": "light"
     },
     "output_type": "display_data"
    }
   ],
   "source": [
    "plt.plot(history.history['accuracy'])\n",
    "plt.plot(history.history['val_accuracy'])\n",
    "plt.title('accuracy plot')\n",
    "plt.xlabel('epochs')\n",
    "plt.ylabel('accuracy')\n",
    "plt.legend(['train','validation'])"
   ]
  },
  {
   "cell_type": "code",
   "execution_count": 33,
   "metadata": {},
   "outputs": [
    {
     "data": {
      "text/plain": [
       "<matplotlib.legend.Legend at 0x2915cdb8a60>"
      ]
     },
     "execution_count": 33,
     "metadata": {},
     "output_type": "execute_result"
    },
    {
     "data": {
      "image/png": "[encoded data removed]",
      "text/plain": [
       "<Figure size 432x288 with 1 Axes>"
      ]
     },
     "metadata": {
      "needs_background": "light"
     },
     "output_type": "display_data"
    }
   ],
   "source": [
    "plt.plot(history.history['loss'])\n",
    "plt.plot(history.history['val_loss'])\n",
    "plt.title('loss plot')\n",
    "plt.xlabel('epochs')\n",
    "plt.ylabel('loss')\n",
    "plt.legend(['train','validation'])"
   ]
  },
  {
   "cell_type": "code",
   "execution_count": 34,
   "metadata": {},
   "outputs": [
    {
     "name": "stdout",
     "output_type": "stream",
     "text": [
      "the predicted class is 9\n",
      "the true class is 9\n",
      "Hence the model is working properly\n"
     ]
    }
   ],
   "source": [
    "ypred= model.predict(x_test)\n",
    "pred=np.argmax(ypred[0])\n",
    "truth=np.argmax(y_test[0])\n",
    "if pred==truth:\n",
    "  print(\"the predicted class is\",pred)\n",
    "  print(\"the true class is\",truth)\n",
    "  print(\"Hence the model is working properly\")\n",
    "else:\n",
    "  print(\"the predicted class is\",pred)\n",
    "  print(\"the true class is\",truth)\n",
    "  print(\"there is an error in the model\")"
   ]
  },
  {
   "cell_type": "code",
   "execution_count": 35,
   "metadata": {},
   "outputs": [
    {
     "name": "stdout",
     "output_type": "stream",
     "text": [
      "PROJECT TESTING\n",
      "The uploaded image is classified as:Dress\n"
     ]
    },
    {
     "data": {
      "image/png": "[encoded data removed]",
      "text/plain": [
       "<Figure size 432x432 with 1 Axes>"
      ]
     },
     "metadata": {
      "needs_background": "light"
     },
     "output_type": "display_data"
    }
   ],
   "source": [
    "print('PROJECT TESTING')\n",
    "from keras.preprocessing import image\n",
    "img = image.load_img('dress.jpeg',color_mode = \"grayscale\",target_size=(28,28))\n",
    "imag = image.img_to_array(img)\n",
    "imag = imag.reshape(1, 28, 28, 1)\n",
    "image = imag.astype('float32')\n",
    "image = image / 255.0\n",
    "ypred = model.predict(image)\n",
    "output=np.argmax(ypred)\n",
    "if output==0: \n",
    "    y='T-shirt/top' \n",
    "elif output==1: \n",
    "    y='Trouser'\n",
    "elif output==2: \n",
    "    y='Pullover' \n",
    "elif output==3: \n",
    "    y='Dress' \n",
    "elif output==4: \n",
    "    y='Coat' \n",
    "elif output==5: \n",
    "    y='Sandal' \n",
    "elif output==6: \n",
    "    y='Shirt' \n",
    "elif output==7: \n",
    "    y='Sneaker' \n",
    "elif output==8: \n",
    "    y='Bag' \n",
    "elif output==9: \n",
    "    y='Ankle Boot'\n",
    "def plot_img(img):\n",
    "  plt.figure(figsize=(6,6))\n",
    "  plt.imshow(img)\n",
    "  plt.title('')\n",
    "  plt.axis('off')\n",
    "plot_img(img)\n",
    "print('The uploaded image is classified as:'+str(y))"
   ]
  },
  {
   "cell_type": "code",
   "execution_count": null,
   "metadata": {},
   "outputs": [],
   "source": []
  }
 ],
 "metadata": {
  "kernelspec": {
   "display_name": "Python 3",
   "language": "python",
   "name": "python3"
  },
  "language_info": {
   "codemirror_mode": {
    "name": "ipython",
    "version": 3
   },
   "file_extension": ".py",
   "mimetype": "text/x-python",
   "name": "python",
   "nbconvert_exporter": "python",
   "pygments_lexer": "ipython3",
   "version": "3.8.3"
  }
 },
 "nbformat": 4,
 "nbformat_minor": 4
}
